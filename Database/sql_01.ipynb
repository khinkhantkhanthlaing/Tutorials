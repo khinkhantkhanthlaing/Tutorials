{
 "cells": [
  {
   "attachments": {},
   "cell_type": "markdown",
   "metadata": {},
   "source": [
    "### Structured Query Language - SQL\n",
    "Data in databases is stored in tables\n",
    "All the data in the same column must match in terms of data types\n",
    "\n",
    "#### Operations\n",
    "- Create\n",
    "- Read\n",
    "- Update\n",
    "- Delete\n",
    "\n",
    "ER diagram : [Refer](https://www.guru99.com/er-diagram-tutorial-dbms.html)"
   ]
  },
  {
   "attachments": {},
   "cell_type": "markdown",
   "metadata": {},
   "source": [
    "#### MySQL DBMS"
   ]
  },
  {
   "cell_type": "code",
   "execution_count": null,
   "metadata": {},
   "outputs": [],
   "source": [
    "# installation\n",
    "pip install mysql-connector-python"
   ]
  },
  {
   "cell_type": "code",
   "execution_count": 1,
   "metadata": {},
   "outputs": [],
   "source": [
    "# Connect to a MySQL database\n",
    "import mysql.connector\n",
    "\n",
    "# Connect to the database\n",
    "db = mysql.connector.connect(user='username', password='password',\n",
    "                              host='hostname', database='database')\n",
    "print(db)"
   ]
  },
  {
   "cell_type": "code",
   "execution_count": null,
   "metadata": {},
   "outputs": [],
   "source": [
    "# Create a cursor\n",
    "cursor = db.cursor()"
   ]
  },
  {
   "cell_type": "code",
   "execution_count": null,
   "metadata": {},
   "outputs": [],
   "source": [
    "#check all the databases in the MySQL\n",
    "cursor.execute(\"SHOW DATABASES\") \n",
    "databases = cursor.fetchall() \n",
    "print(databases)"
   ]
  },
  {
   "cell_type": "code",
   "execution_count": null,
   "metadata": {},
   "outputs": [],
   "source": [
    "cursor.execute(\"CREATE DATABASE my_first_db\")"
   ]
  },
  {
   "cell_type": "code",
   "execution_count": null,
   "metadata": {},
   "outputs": [],
   "source": [
    "#Here creating database table as student'\n",
    "cursor.execute(\"\"\"CREATE TABLE student (id INT, name VARCHAR(255),\n",
    "\t       roll INT NOT NULL, section VARCHAR(5), age INT)\"\"\")\n",
    "#Get database table'\n",
    "cursor.execute(\"SHOW TABLES\")\n",
    "for table in cursor:\n",
    "\tprint(table)"
   ]
  },
  {
   "cell_type": "code",
   "execution_count": null,
   "metadata": {},
   "outputs": [],
   "source": [
    "#Here creating database table as employee with primary key\n",
    "cursor.execute(\"CREATE TABLE employee(id INT AUTO_INCREMENT PRIMARY KEY, name VARCHAR(255), salary INT(6))\")\n",
    "#Get database table\n",
    "cursor.execute(\"SHOW TABLES\")\n",
    "for table in cursor:\n",
    "\tprint(table)"
   ]
  },
  {
   "cell_type": "code",
   "execution_count": null,
   "metadata": {},
   "outputs": [],
   "source": [
    "#Here we modify existing column id\n",
    "cursor.execute(\"ALTER TABLE student MODIFY id INT PRIMARY KEY\")"
   ]
  },
  {
   "cell_type": "code",
   "execution_count": null,
   "metadata": {},
   "outputs": [],
   "source": [
    "student_sql_query = \"INSERT INTO student(id,name,roll,section,age) VALUES(01, 'John', 5, 'B', 20)\"\n",
    "employee_sql_query = \" INSERT INTO employee (id, name, salary) VALUES (01, 'John', 10000)\"\n",
    "#Execute cursor and pass query as well as student data\n",
    "cursor.execute(student_sql_query)\n",
    "#Execute cursor and pass query of employee and data of employee\n",
    "cursor.execute(employee_sql_query)\n",
    "db.commit()\n",
    "print(cursor.rowcount, \"Record Inserted\")"
   ]
  },
  {
   "cell_type": "code",
   "execution_count": null,
   "metadata": {},
   "outputs": [],
   "source": [
    "#insert multiple values at once\n",
    "sql = \"INSERT INTO STUDENT (NAME, ROLL, SECTION, AGE)\\\n",
    "VALUES (%s, %s, %s, %s, %s)\"\n",
    "val = [(\"Nikhil\", \"98\", \"A\", \"18\"),\n",
    "       (\"Nisha\", \"99\", \"A\", \"18\"),\n",
    "       (\"Rohan\", \"43\", \"B\", \"20\"),\n",
    "       (\"Amit\", \"24\", \"A\", \"21\"),\n",
    "       (\"Anil\",\"45\", \"B\", \"20\"),\n",
    "       (\"Megha\", \"55\", \"A\", \"22\"),\n",
    "       (\"Sita\", \"95\", \"A\", \"19\")]\n",
    "   \n",
    "cursor.executemany(sql, val)\n",
    "db.commit()"
   ]
  },
  {
   "cell_type": "code",
   "execution_count": null,
   "metadata": {},
   "outputs": [],
   "source": [
    "query = \"SELECT NAME FROM STUDENT\"\n",
    "cursor.execute(query)\n",
    "   \n",
    "myresult = cursor.fetchall()\n",
    "   \n",
    "for x in myresult:\n",
    "    print(x)"
   ]
  },
  {
   "cell_type": "code",
   "execution_count": null,
   "metadata": {},
   "outputs": [],
   "source": [
    "query = \"SELECT * FROM STUDENT where AGE >=20\"\n",
    "cursor.execute(query)\n",
    "   \n",
    "myresult = cursor.fetchall()\n",
    "   \n",
    "for x in myresult:\n",
    "    print(x)"
   ]
  },
  {
   "cell_type": "code",
   "execution_count": null,
   "metadata": {},
   "outputs": [],
   "source": [
    "query = \"SELECT * FROM STUDENT ORDER BY NAME DESC\"\n",
    "cursor.execute(query)\n",
    "   \n",
    "myresult = cursor.fetchall()\n",
    "   \n",
    "for x in myresult:\n",
    "    print(x)"
   ]
  },
  {
   "cell_type": "code",
   "execution_count": null,
   "metadata": {},
   "outputs": [],
   "source": [
    "query = \"SELECT * FROM STUDENT LIMIT 2 OFFSET 1\"\n",
    "cursor.execute(query)\n",
    "   \n",
    "myresult = cursor.fetchall()\n",
    "   \n",
    "for x in myresult:\n",
    "    print(x)\n",
    " "
   ]
  },
  {
   "cell_type": "code",
   "execution_count": null,
   "metadata": {},
   "outputs": [],
   "source": [
    "query = \"UPDATE STUDENT SET AGE = 23 WHERE Name ='Ram'\"\n",
    "cursor.execute(query)\n",
    "db.commit()"
   ]
  },
  {
   "cell_type": "code",
   "execution_count": null,
   "metadata": {},
   "outputs": [],
   "source": [
    "query = \"DELETE FROM STUDENT WHERE NAME = 'Ram'\"\n",
    "cursor.execute(query)\n",
    "db.commit()"
   ]
  },
  {
   "cell_type": "code",
   "execution_count": null,
   "metadata": {},
   "outputs": [],
   "source": [
    "query =\"DROP TABLE Student;\"\n",
    " \n",
    "cursor.execute(query)\n",
    "db.commit()"
   ]
  },
  {
   "cell_type": "code",
   "execution_count": null,
   "metadata": {},
   "outputs": [],
   "source": [
    "# Close the cursor and connection\n",
    "cursor.close()\n",
    "db.close()"
   ]
  },
  {
   "attachments": {},
   "cell_type": "markdown",
   "metadata": {},
   "source": [
    "### EXERCISE\n"
   ]
  },
  {
   "attachments": {},
   "cell_type": "markdown",
   "metadata": {},
   "source": [
    "<img src=\".\\img\\ex1.PNG\" alt=\"Alternative text\" />"
   ]
  }
 ],
 "metadata": {
  "kernelspec": {
   "display_name": "base",
   "language": "python",
   "name": "python3"
  },
  "language_info": {
   "codemirror_mode": {
    "name": "ipython",
    "version": 3
   },
   "file_extension": ".py",
   "mimetype": "text/x-python",
   "name": "python",
   "nbconvert_exporter": "python",
   "pygments_lexer": "ipython3",
   "version": "3.9.12"
  },
  "orig_nbformat": 4,
  "vscode": {
   "interpreter": {
    "hash": "a90aeebcf29d64a654773811cc170cb25061cb2498f10ac689db374c7bf325de"
   }
  }
 },
 "nbformat": 4,
 "nbformat_minor": 2
}
